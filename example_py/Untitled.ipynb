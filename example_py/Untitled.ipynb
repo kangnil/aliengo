{
 "cells": [
  {
   "cell_type": "code",
   "execution_count": 1,
   "id": "8d364116-778a-4502-81fe-252249ffc4fd",
   "metadata": {},
   "outputs": [],
   "source": [
    "#!/usr/bin/python\n",
    "\n",
    "import sys\n",
    "import time\n",
    "import math\n",
    "\n",
    "sys.path.append('../lib/python/amd64')\n",
    "import robot_interface as sdk\n"
   ]
  },
  {
   "cell_type": "code",
   "execution_count": 2,
   "id": "0d3baa67-6bc9-4ce5-9cea-b20ee7d551d4",
   "metadata": {},
   "outputs": [],
   "source": [
    "TARGET_PORT = 8082\n",
    "LOCAL_PORT = 8081\n",
    "TARGET_IP = \"192.168.123.220\"   # target IP address\n",
    "\n",
    "HIGH_CMD_LENGTH = 113\n",
    "HIGH_STATE_LENGTH = 244\n",
    "\n",
    "HIGHLEVEL = 0x00\n",
    "LOWLEVEL  = 0xff"
   ]
  },
  {
   "cell_type": "code",
   "execution_count": 3,
   "id": "403ce13f-7d88-4974-93b6-127376d1fb5c",
   "metadata": {},
   "outputs": [],
   "source": [
    "cmd = sdk.HighCmd()\n",
    "state = sdk.HighState()\n",
    "\n",
    "\n",
    "\n",
    "\n",
    "udp = sdk.UDP(LOCAL_PORT, TARGET_IP, TARGET_PORT, HIGH_CMD_LENGTH, HIGH_STATE_LENGTH, -1)\n",
    "\n",
    "udp.InitCmdData(cmd)\n",
    "udp.Recv()\n",
    "udp.GetRecv(state)"
   ]
  },
  {
   "cell_type": "code",
   "execution_count": 4,
   "id": "4585a697-a905-4d8e-81fd-c2dae6bf0818",
   "metadata": {},
   "outputs": [],
   "source": [
    "cmd.mode = 0      # 0:idle, default stand      1:forced stand     2:walk continuously\n",
    "cmd.gaitType = 0\n",
    "cmd.speedLevel = 0\n",
    "cmd.dFootRaiseHeight = 0\n",
    "cmd.dBodyHeight = 0\n",
    "cmd.rpy = [0, 0, 0]\n",
    "cmd.velocity = [0, 0]\n",
    "cmd.yawSpeed = 0.0\n",
    "cmd.reserve = 0\n",
    "\n",
    "# cmd.mode = 0\n",
    "# cmd.gaitType = 0\n",
    "# cmd.velocity = [-0.1, 0] # -1  ~ +1\n",
    "# cmd.yawSpeed = 0#-0.2\n",
    "# cmd.dFootRaiseHeight = 0.1\n",
    "\n",
    "# cmd.mode = 1\n",
    "# cmd.dBodyHeight = -0.2\n",
    "\n",
    "#cmd.mode = 1\n",
    "#cmd.dBodyHeight = -0.1\n",
    "\n",
    "\n",
    "# cmd.mode = 2\n",
    "# cmd.gaitType = 1\n",
    "# cmd.velocity = [-0.3, 0] # -1  ~ +1\n",
    "# cmd.yawSpeed = -.2\n",
    "# cmd.dFootRaiseHeight = 0.05"
   ]
  },
  {
   "cell_type": "code",
   "execution_count": 6,
   "id": "eacd12f2-ab48-4e99-a7cc-392b857c6cf5",
   "metadata": {},
   "outputs": [],
   "source": [
    "for i in range(100):\n",
    "    udp.SetSend(cmd)\n",
    "    udp.Send()\n",
    "    time.sleep(0.01)"
   ]
  },
  {
   "cell_type": "code",
   "execution_count": null,
   "id": "a1e713c5-269b-41ee-b60e-0ae7e7d5b86a",
   "metadata": {},
   "outputs": [],
   "source": []
  }
 ],
 "metadata": {
  "kernelspec": {
   "display_name": "Python 3 (ipykernel)",
   "language": "python",
   "name": "python3"
  },
  "language_info": {
   "codemirror_mode": {
    "name": "ipython",
    "version": 3
   },
   "file_extension": ".py",
   "mimetype": "text/x-python",
   "name": "python",
   "nbconvert_exporter": "python",
   "pygments_lexer": "ipython3",
   "version": "3.8.10"
  }
 },
 "nbformat": 4,
 "nbformat_minor": 5
}
